{
 "cells": [
  {
   "cell_type": "code",
   "execution_count": 1,
   "metadata": {},
   "outputs": [
    {
     "name": "stdout",
     "output_type": "stream",
     "text": [
      "Requirement already satisfied: SpeechRecognition in c:\\programdata\\anaconda3\\lib\\site-packages (3.8.1)\n"
     ]
    }
   ],
   "source": [
    "!pip install SpeechRecognition"
   ]
  },
  {
   "cell_type": "code",
   "execution_count": 2,
   "metadata": {},
   "outputs": [
    {
     "name": "stdout",
     "output_type": "stream",
     "text": [
      "Requirement already satisfied: PyAudio in c:\\programdata\\anaconda3\\lib\\site-packages (0.2.11)\n"
     ]
    }
   ],
   "source": [
    "!pip install PyAudio"
   ]
  },
  {
   "cell_type": "code",
   "execution_count": 12,
   "metadata": {},
   "outputs": [
    {
     "name": "stdout",
     "output_type": "stream",
     "text": [
      "SAY SOMETHING\n",
      "TEXT:Ok Google Ok Google Ok Google say something say something is my text say something ok Google hello I am learning Python automation training\n"
     ]
    }
   ],
   "source": [
    "import speech_recognition as sr\n",
    "r=sr.Recognizer()\n",
    "with sr.Microphone() as source:\n",
    "    print(\"SAY SOMETHING\");\n",
    "    audio=r.listen(source)\n",
    "try:\n",
    "    a=r.recognize_google(audio)\n",
    "    print(\"TEXT:\"+a);\n",
    "except:\n",
    "    pass;"
   ]
  },
  {
   "cell_type": "code",
   "execution_count": 11,
   "metadata": {},
   "outputs": [
    {
     "name": "stdout",
     "output_type": "stream",
     "text": [
      "TEXT:what is summary the sides to break a teacher for the you keep error code coverage the works of places to save money baby is taking longer to getting squared away then the bankers expected hiring wife event company Mai when her taxi retirement income the British Oppo new services saving ragnarok latest and the two naked Bond what a discussion can insert when the title of this type of song is in question or waxing August needed I provide my personal number workplace leather lace work on a flat surface and smooth out this report standard SAP system uses its angles of intent Unity old shop at store holds a good mechanical isliye bad boss 12 figures with Gauhar in lady heroes some beautiful chairs cabinets test for houses\n"
     ]
    }
   ],
   "source": [
    "import speech_recognition as sr\n",
    "r=sr.Recognizer()\n",
    "with sr.AudioFile(\"C://Users/DELL/Desktop/python/important_seesion/audio.wav\") as source:\n",
    "    audio=r.listen(source)\n",
    "    \n",
    "try:\n",
    "    s=r.recognize_google(audio)\n",
    "    print(\"TEXT:\"+s);\n",
    "except Exception as e:\n",
    "    print(\"Exception:\"+str(e))\n",
    "   "
   ]
  },
  {
   "cell_type": "code",
   "execution_count": null,
   "metadata": {},
   "outputs": [],
   "source": []
  }
 ],
 "metadata": {
  "kernelspec": {
   "display_name": "Python 3",
   "language": "python",
   "name": "python3"
  },
  "language_info": {
   "codemirror_mode": {
    "name": "ipython",
    "version": 3
   },
   "file_extension": ".py",
   "mimetype": "text/x-python",
   "name": "python",
   "nbconvert_exporter": "python",
   "pygments_lexer": "ipython3",
   "version": "3.7.3"
  }
 },
 "nbformat": 4,
 "nbformat_minor": 2
}
